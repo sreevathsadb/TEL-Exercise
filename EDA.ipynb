{
 "cells": [
  {
   "cell_type": "code",
   "execution_count": null,
   "id": "61935e0c",
   "metadata": {},
   "outputs": [],
   "source": [
    "# import modules\n",
    "import pandas as pd\n",
    "import numpy as np\n",
    "import seaborn as sns\n",
    "import plotly.express as px\n",
    "import matplotlib.pyplot as mp\n",
    "from matplotlib import pyplot as plt\n",
    "import warnings\n",
    "from sklearn.model_selection import train_test_split\n",
    "warnings.filterwarnings('ignore')\n",
    "pd.set_option(\"display.max_columns\",1000)\n",
    "pd.set_option('display.max_rows', 17544) \n",
    "# Configuring plotting visual and sizes\n",
    "%matplotlib inline\n",
    "sns.set_style('whitegrid')\n",
    "sns.set_context('talk')\n",
    "params = {'legend.fontsize': 'x-large',\n",
    "          'figure.figsize': (30, 10),\n",
    "          'axes.labelsize': 'x-large',\n",
    "          'axes.titlesize':'x-large',\n",
    "          'xtick.labelsize':'x-large',\n",
    "          'ytick.labelsize':'x-large'}\n"
   ]
  },
  {
   "cell_type": "code",
   "execution_count": null,
   "id": "58bb516e",
   "metadata": {},
   "outputs": [],
   "source": [
    "from sklearn.preprocessing import StandardScaler\n",
    "from sklearn import tree\n",
    "from sklearn.neighbors import KNeighborsClassifier\n",
    "from sklearn.ensemble import RandomForestClassifier, AdaBoostClassifier\n",
    "from sklearn.tree import DecisionTreeClassifier\n",
    "from sklearn.discriminant_analysis import LinearDiscriminantAnalysis\n",
    "from sklearn.linear_model import LogisticRegression\n",
    "from sklearn.ensemble import GradientBoostingClassifier\n",
    "from sklearn.naive_bayes import GaussianNB\n",
    "from sklearn.model_selection import cross_val_score\n",
    "from sklearn import metrics\n",
    "from sklearn.metrics import plot_confusion_matrix\n",
    "from sklearn.metrics import confusion_matrix\n",
    "from sklearn.model_selection import cross_validate"
   ]
  },
  {
   "cell_type": "code",
   "execution_count": null,
   "id": "4c0e49c5",
   "metadata": {},
   "outputs": [],
   "source": [
    "df=pd.read_csv('https://raw.githubusercontent.com/JattievdLinde/insights/main/data/Data.log')\n",
    "df.head()\n",
    "df['Timestamp'] = pd.to_datetime(df['Timestamp'])\n",
    "df = df.sort_values(['Timestamp'])"
   ]
  },
  {
   "cell_type": "code",
   "execution_count": null,
   "id": "6750b020",
   "metadata": {},
   "outputs": [],
   "source": [
    "df.describe()"
   ]
  },
  {
   "cell_type": "code",
   "execution_count": null,
   "id": "ddf7c832",
   "metadata": {},
   "outputs": [],
   "source": [
    "df.head(10)"
   ]
  },
  {
   "cell_type": "code",
   "execution_count": null,
   "id": "4ec00e21",
   "metadata": {},
   "outputs": [],
   "source": [
    "pd.DataFrame(df.columns,columns =['List of Columns'])"
   ]
  },
  {
   "cell_type": "code",
   "execution_count": null,
   "id": "436438ab",
   "metadata": {},
   "outputs": [],
   "source": [
    "df.nunique()"
   ]
  },
  {
   "cell_type": "code",
   "execution_count": null,
   "id": "4f8501be",
   "metadata": {},
   "outputs": [],
   "source": [
    "df = df.drop(columns=['PressureControl','StackTC','MagnetTC','HeliumPressure','RGAChannel1', 'RGAChannel2','RGAChannel3','RGAChannel4', 'RGAChannel5','RGAChannel6'])"
   ]
  },
  {
   "cell_type": "code",
   "execution_count": null,
   "id": "45a8b033",
   "metadata": {},
   "outputs": [],
   "source": [
    "percent_missing = df.isnull().sum() * 100 / len(df)\n",
    "missing_value_df = pd.DataFrame({'column_name': df.columns,\n",
    "                                 'percent_missing': percent_missing}).reset_index(drop=True)\n",
    "missing_value_df"
   ]
  },
  {
   "cell_type": "code",
   "execution_count": null,
   "id": "55cfabe0",
   "metadata": {},
   "outputs": [],
   "source": [
    "df['Element'] = df['Element'].str.strip()\n",
    "print(df['Element'].value_counts())\n",
    "df=df.replace(\"\",\"Vacuum\")\n",
    "print(df['Element'].value_counts())"
   ]
  },
  {
   "cell_type": "code",
   "execution_count": null,
   "id": "ddcf76dc",
   "metadata": {},
   "outputs": [],
   "source": [
    "df.tail(10)"
   ]
  },
  {
   "cell_type": "code",
   "execution_count": null,
   "id": "981d5d38",
   "metadata": {},
   "outputs": [],
   "source": [
    "corr = df.corr()\n",
    "corr.style.background_gradient(cmap='coolwarm')"
   ]
  },
  {
   "cell_type": "code",
   "execution_count": null,
   "id": "f5ed204a",
   "metadata": {},
   "outputs": [],
   "source": [
    "fig = px.line(df, x='Timestamp', y=\"ProductTemp\")\n",
    "fig.show()"
   ]
  },
  {
   "cell_type": "code",
   "execution_count": null,
   "id": "4dfac966",
   "metadata": {},
   "outputs": [],
   "source": [
    "fig = px.line(df, x='Timestamp', y=\"PSUTop\")\n",
    "fig.show()"
   ]
  },
  {
   "cell_type": "code",
   "execution_count": null,
   "id": "0f800ea8",
   "metadata": {},
   "outputs": [],
   "source": [
    "fig = px.line(df, x='Timestamp', y=\"Field\")\n",
    "fig.show()"
   ]
  },
  {
   "cell_type": "code",
   "execution_count": null,
   "id": "a67bf1bb",
   "metadata": {},
   "outputs": [],
   "source": [
    "\n",
    "# Set theme\n",
    "sns.set_style('whitegrid')\n",
    " \n",
    "# Violin plot\n",
    "plt.figure(figsize=(12,8)) # Set plot dimensions\n",
    "sns.violinplot(x='Element', y='ProductTemp', data=df)\n"
   ]
  },
  {
   "cell_type": "code",
   "execution_count": null,
   "id": "a175423a",
   "metadata": {},
   "outputs": [],
   "source": [
    "# Set theme\n",
    "sns.set_style('whitegrid')\n",
    " \n",
    "# Violin plot\n",
    "plt.figure(figsize=(12,8)) # Set plot dimensions\n",
    "sns.violinplot(x='Element', y='Pressure', data=df)"
   ]
  },
  {
   "cell_type": "code",
   "execution_count": null,
   "id": "8bb3f01f",
   "metadata": {},
   "outputs": [],
   "source": [
    "# Distribution Plot (a.k.a. Histogram)\n",
    "plt.figure(figsize=(9,6))\n",
    "sns.histplot(df, x='PSUMiddle',\n",
    "             kde=True) # Plot the density curve too"
   ]
  },
  {
   "cell_type": "code",
   "execution_count": null,
   "id": "54612b53",
   "metadata": {},
   "outputs": [],
   "source": [
    "avg_temp_element = df.groupby(['Element'])['ProductTemp','Pressure','TempChannel1','Field','Top','PSUTop','PSUMiddle','PSUBottom'].mean().reset_index()\n",
    "avg_temp_element"
   ]
  },
  {
   "cell_type": "code",
   "execution_count": null,
   "id": "00fa34ed",
   "metadata": {},
   "outputs": [],
   "source": [
    "conditions = [\n",
    "    (df['Element'] == \"He\"),\n",
    "   (df['Element'] == \"Vacuum\")\n",
    "    ]\n",
    "values = [0,1]\n",
    "df['Element'] = np.select(conditions, values)"
   ]
  },
  {
   "cell_type": "code",
   "execution_count": null,
   "id": "51e15054",
   "metadata": {},
   "outputs": [],
   "source": [
    "df.columns"
   ]
  },
  {
   "cell_type": "code",
   "execution_count": null,
   "id": "30f6ae02",
   "metadata": {},
   "outputs": [],
   "source": [
    "X_class = np.array(df[['ProductTemp','Pressure','TempChannel1','Field','Top', 'Middle', 'Bottom','PSUTop','PSUMiddle','PSUBottom','Gas1']])\n",
    "Y_class = np.array(df[['Element']])\n",
    "\n",
    "# Transformed dataset is randomly split into 70:30 to accommodate the training and testing phases\n",
    "x_train_class, x_test_class, y_train_class, y_test_class = train_test_split(X_class,Y_class, test_size = 0.3,random_state=0)\n",
    "print(\"X_train has these samples:\", x_train_class.shape)\n",
    "print(\"X_test has these samples:\", x_test_class.shape)\n",
    "print(\"Y_train has these samples:\", len(y_train_class))\n",
    "print(\"Y_train has these samples:\", len(y_test_class))"
   ]
  },
  {
   "cell_type": "code",
   "execution_count": null,
   "id": "fa986dd0",
   "metadata": {},
   "outputs": [],
   "source": [
    "classification_models = [\"Random Forest\",\"Decision Tree\",\"K-Nearest Neighbours\",\"LDA\",\"Logistic Regression\",\"Naive Bayes\"]\n",
    "\n",
    "classifiers = [\n",
    "    RandomForestClassifier(n_estimators=200, criterion='gini', min_samples_split=5, min_samples_leaf=2, max_features='auto', bootstrap=True, n_jobs=-1, random_state=42),\n",
    "    DecisionTreeClassifier(random_state=42),\n",
    "    KNeighborsClassifier(weights='distance'),\n",
    "    LogisticRegression(),\n",
    "    LinearDiscriminantAnalysis(n_components=1),\n",
    "    GaussianNB()\n",
    "    ]\n",
    "\n",
    "\n",
    "for name, model in zip(classification_models, classifiers):\n",
    "    model.fit(x_train_class, y_train_class)\n",
    "    y_pred_class = model.predict(x_test_class)\n",
    "    print (name, \"Model\")\n",
    "    print(\"% Accuracy for \",name,\" is \",metrics.accuracy_score(y_test_class, y_pred_class) * 100)\n",
    "    print(\"Precision Score \",name,\" is \",metrics.precision_score(y_test_class, y_pred_class, average='weighted', labels=np.unique(y_pred_class)))\n",
    "    print(\"Recall Score \",name,\" is \",metrics.recall_score(y_test_class, y_pred_class, average='weighted'))\n",
    "    print(\"F1-Score Score \",name,\" is \",metrics.f1_score(y_test_class, y_pred_class, average='weighted', labels=np.unique(y_pred_class)))\n",
    "    print(\"Evaluating Cross Validation\")\n",
    "    scores = cross_val_score(model, X_class, Y_class, cv=5)\n",
    "    print(\"Scores:\", scores)\n",
    "    print(\"%0.2f accuracy with a standard deviation of %0.2f\" % (scores.mean(), scores.std()))\n",
    "    print (\"mean score and 95% confidence interval of the score estimate are given by\")\n",
    "    print(\"Accuracy: %0.2f (+/- %0.2f)\" % (scores.mean(), scores.std() * 2))\n",
    "    print(\"*------------END-----------*\")\n",
    "    \n",
    "# Generating confusion matrix and visualising using heatmap    \n",
    "fig, axes = plt.subplots(nrows=2, ncols=3, figsize=(10,8))\n",
    "for model, ax, name in zip(classifiers, axes.flatten(), classification_models):\n",
    "    plot_confusion_matrix(model, x_test_class, y_test_class, ax=ax, values_format=None, cmap='Blues', include_values=True)\n",
    "    ax.title.set_text(name)  \n",
    "    ax.set_xlabel('Predicted Class', fontsize=8)\n",
    "    ax.set_ylabel('Actual Class', fontsize=8)\n",
    "\n",
    "plt.tight_layout()\n",
    "plt.show()"
   ]
  }
 ],
 "metadata": {
  "kernelspec": {
   "display_name": "Python 3.10.4 ('geo_env')",
   "language": "python",
   "name": "python3"
  },
  "language_info": {
   "codemirror_mode": {
    "name": "ipython",
    "version": 3
   },
   "file_extension": ".py",
   "mimetype": "text/x-python",
   "name": "python",
   "nbconvert_exporter": "python",
   "pygments_lexer": "ipython3",
   "version": "3.10.4"
  },
  "vscode": {
   "interpreter": {
    "hash": "2cd0f5ac8c377b6aed52beaf5112ebace78645e9247ebbef1f4b056283f52f06"
   }
  }
 },
 "nbformat": 4,
 "nbformat_minor": 5
}
